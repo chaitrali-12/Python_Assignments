{
  "nbformat": 4,
  "nbformat_minor": 0,
  "metadata": {
    "colab": {
      "provenance": []
    },
    "kernelspec": {
      "name": "python3",
      "display_name": "Python 3"
    },
    "language_info": {
      "name": "python"
    }
  },
  "cells": [
    {
      "cell_type": "code",
      "execution_count": null,
      "metadata": {
        "colab": {
          "base_uri": "https://localhost:8080/"
        },
        "id": "bzqAA2Z5Sttl",
        "outputId": "ea21a720-93ac-401f-e10c-952fa03f3086"
      },
      "outputs": [
        {
          "output_type": "stream",
          "name": "stdout",
          "text": [
            "Enter the volume of H2SO4 required in ml: 30\n",
            "Enter the value of sample in liters: 0.2\n",
            "Alkalinity Removed:  30.0 mg\n",
            "Total Alkalinity: 150.0 mg/lit\n",
            "Enter the value of OH-Alkalinity present (mg/lit): 5\n",
            "Enter the volume of H2SO4 required till pH 8.3 in ml: 11\n",
            "Alkalinity Removed till pH 8.3:  11.0 mg\n",
            "Carbonate Alkalinity up to pH 8.3: 55.0 mg/lit\n",
            "Carbonate Alkalinity (CO3): 50.0 mg/lit\n",
            "Bicarbonate Alkalinity (HCO3): 45.0 mg/lit\n"
          ]
        }
      ],
      "source": [
        "# Input the required values for alkalinity calculation\n",
        "H2SO4_req = float(input(\"Enter the volume of H2SO4 required in ml: \"))\n",
        "Sample = float(input(\"Enter the value of sample in liters: \"))\n",
        "\n",
        "# Calculate alkalinity removed\n",
        "Alkalinity_Removed = H2SO4_req\n",
        "print(\"Alkalinity Removed: \", Alkalinity_Removed, \"mg\")\n",
        "\n",
        "# Calculate total alkalinity per liter\n",
        "Alk_mg_per_lit = Alkalinity_Removed / Sample\n",
        "print(\"Total Alkalinity:\", Alk_mg_per_lit, \"mg/lit\")\n",
        "\n",
        "# Input the value of OH-Alkalinity present\n",
        "OH = float(input(\"Enter the value of OH-Alkalinity present (mg/lit): \"))\n",
        "\n",
        "# Alkalinity removed till pH of 8.3\n",
        "H2SO4_req_8_3 = float(input(\"Enter the volume of H2SO4 required till pH 8.3 in ml: \"))\n",
        "Alkalinity_Removed_8_3 = H2SO4_req_8_3\n",
        "print(\"Alkalinity Removed till pH 8.3: \", Alkalinity_Removed_8_3, \"mg\")\n",
        "\n",
        "# Carbonate Alkalinity up to pH 8.3\n",
        "CO3_Combined = Alkalinity_Removed_8_3 / Sample\n",
        "print(\"Carbonate Alkalinity up to pH 8.3:\", CO3_Combined, \"mg/lit\")\n",
        "\n",
        "# Calculate Carbonate Alkalinity (CO3)\n",
        "CO3 = CO3_Combined - OH\n",
        "print(\"Carbonate Alkalinity (CO3):\", CO3, \"mg/lit\")\n",
        "\n",
        "# Calculate Bicarbonate Alkalinity (HCO3)\n",
        "HCO3 = Alk_mg_per_lit - 2 * CO3 - OH\n",
        "print(\"Bicarbonate Alkalinity (HCO3):\", HCO3, \"mg/lit\")\n"
      ]
    }
  ]
}