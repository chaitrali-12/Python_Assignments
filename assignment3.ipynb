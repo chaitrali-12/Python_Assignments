{
  "nbformat": 4,
  "nbformat_minor": 0,
  "metadata": {
    "colab": {
      "provenance": []
    },
    "kernelspec": {
      "name": "python3",
      "display_name": "Python 3"
    },
    "language_info": {
      "name": "python"
    }
  },
  "cells": [
    {
      "cell_type": "code",
      "execution_count": null,
      "metadata": {
        "colab": {
          "base_uri": "https://localhost:8080/"
        },
        "id": "EUBJ6-E59TJ1",
        "outputId": "6d837fa6-7a37-4eb6-a639-a7e3c79093ba"
      },
      "outputs": [
        {
          "output_type": "stream",
          "name": "stdout",
          "text": [
            "Enter the value of design speed (km/h): 65\n",
            "Enter the value of Radius of curvature (m): 220\n",
            "Enter the value of slope (ratio): 150\n",
            "Enter the value of width of road including extra widening (m): 7.5\n",
            "Enter the value for plain terain 0.07\n",
            "The value of Super elevation: 0.08535353535353535\n",
            "Actual Super elevation used: 0.07\n",
            "The length of transition curve: 39.37500000000001 m\n"
          ]
        }
      ],
      "source": [
        "#1\n",
        "# To Calculate the length of transition curve\n",
        "V = int(input(\"Enter the value of design speed (km/h): \"))\n",
        "R = int(input(\"Enter the value of Radius of curvature (m): \"))\n",
        "N = int(input(\"Enter the value of slope (ratio): \"))\n",
        "W = float(input(\"Enter the value of width of road including extra widening (m): \"))\n",
        "emax = float(input(\"Enter the value for plain terain \"))\n",
        "\n",
        "# Calculate the required superelevation\n",
        "ecal = (V * V) / (225 * R)\n",
        "print(\"The value of Super elevation:\", ecal)\n",
        "\n",
        "# Determine the actual superelevation\n",
        "actual_superelevation = ecal if ecal < emax else emax\n",
        "print(\"Actual Super elevation used:\", actual_superelevation)\n",
        "\n",
        "# Calculate the length of transition curve\n",
        "Ls = (actual_superelevation * N * W) / 2\n",
        "print(\"The length of transition curve:\", Ls, \"m\")\n"
      ]
    },
    {
      "cell_type": "code",
      "source": [
        "#2\n",
        "import numpy as np\n",
        "\n",
        "R = int(input(\"Constant R: \"))\n",
        "C = int(input(\"Constant C: \"))\n",
        "\n",
        "A = int(input(\"Total Data Values for EWL Constant: \"))\n",
        "B = int(input(\"Total Data Values for AADT: \"))\n",
        "\n",
        "EWL_Constant = []\n",
        "AADT = []\n",
        "\n",
        "# Input for EWL Constant\n",
        "for i in range(1, A + 1):\n",
        "    print(\"Enter EWL Constant:\")\n",
        "    value = float(input())\n",
        "    EWL_Constant.append(value)\n",
        "\n",
        "# Input for AADT\n",
        "for j in range(1, B + 1):\n",
        "    print(\"Enter AADT:\")\n",
        "    value = float(input())\n",
        "    AADT.append(value)\n",
        "\n",
        "# Calculate the dot product\n",
        "product = np.dot(EWL_Constant, AADT)\n",
        "\n",
        "# Total EWL and output\n",
        "Total_EWL = product\n",
        "print(\"Total EWL:\", Total_EWL)\n",
        "print(\"EWL after 60 years:\", Total_EWL * 1.6)\n",
        "\n",
        "# Traffic Index calculation\n",
        "TI = 1.35 * (((1.6 * Total_EWL) + (product / 2)) ** 0.11)\n",
        "print(\"Traffic Index:\", TI)\n",
        "\n",
        "# Calculate pavement thickness\n",
        "Thickness = 0.166 * TI * (9032 - R) / (C ** 0.2)\n",
        "print(\"Pavement Thickness:\", Thickness, \"cm\")\n"
      ],
      "metadata": {
        "colab": {
          "base_uri": "https://localhost:8080/"
        },
        "id": "l9xSChGa-9Wc",
        "outputId": "0c9b5eda-e0f2-463c-e961-639eec244a6d"
      },
      "execution_count": null,
      "outputs": [
        {
          "output_type": "stream",
          "name": "stdout",
          "text": [
            "Constant R: 48\n",
            "Constant C: 16\n",
            "Total Data Values for EWL Constant: 4\n",
            "Total Data Values for AADT: 4\n",
            "Enter EWL Constant:\n",
            "330\n",
            "Enter EWL Constant:\n",
            "1070\n",
            "Enter EWL Constant:\n",
            "2460\n",
            "Enter EWL Constant:\n",
            "4620\n",
            "Enter AADT:\n",
            "3750\n",
            "Enter AADT:\n",
            "470\n",
            "Enter AADT:\n",
            "320\n",
            "Enter AADT:\n",
            "120\n",
            "Total EWL: 3082000.0\n",
            "EWL after 60 years: 4931200.0\n",
            "Traffic Index: 7.577910657490486\n",
            "Pavement Thickness: 30.34470100391634 cm\n"
          ]
        }
      ]
    },
    {
      "cell_type": "code",
      "source": [
        "#3\n",
        "# Initialize variables\n",
        "P = float(input(\"Load in kg: \"))\n",
        "p = float(input(\"Tyre pressure in kg/cm^2: \"))\n",
        "M = int(input(\"Total Number of layers in a given Pavement: \"))\n",
        "CBR = []\n",
        "\n",
        "# Input for CBR values\n",
        "for i in range(1, M + 1):\n",
        "    CBR_value = float(input(f\"Enter CBR value for layer {i}: \"))\n",
        "    CBR.append(CBR_value)\n",
        "\n",
        "# Calculate thickness for each layer\n",
        "for i in range(M):\n",
        "    T = ((1.75 * P) / CBR[i] - (P / (p * 3.14159))) ** 0.5\n",
        "    print(f\"Thickness above layer {i + 1}: {T:.2f} cm\")\n",
        "\n",
        "print(\"Given that the bitumen layer is 4 cm.\")\n"
      ],
      "metadata": {
        "colab": {
          "base_uri": "https://localhost:8080/"
        },
        "id": "LVZqBgKlAd8g",
        "outputId": "86dd306a-db06-443c-cd1c-5859ea9192ed"
      },
      "execution_count": null,
      "outputs": [
        {
          "output_type": "stream",
          "name": "stdout",
          "text": [
            "Load in kg: 4085\n",
            "Tyre pressure in kg/cm^2: 7\n",
            "Total Number of layers in a given Pavement: 3\n",
            "Enter CBR value for layer 1: 4.38\n",
            "Enter CBR value for layer 2: 6\n",
            "Enter CBR value for layer 3: 12\n",
            "Thickness above layer 1: 38.03 cm\n",
            "Thickness above layer 2: 31.71 cm\n",
            "Thickness above layer 3: 20.25 cm\n",
            "Given that the bitumen layer is 4 cm.\n"
          ]
        }
      ]
    }
  ]
}