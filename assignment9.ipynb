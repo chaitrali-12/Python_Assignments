{
  "nbformat": 4,
  "nbformat_minor": 0,
  "metadata": {
    "colab": {
      "provenance": []
    },
    "kernelspec": {
      "name": "python3",
      "display_name": "Python 3"
    },
    "language_info": {
      "name": "python"
    }
  },
  "cells": [
    {
      "cell_type": "code",
      "execution_count": null,
      "metadata": {
        "colab": {
          "base_uri": "https://localhost:8080/"
        },
        "id": "HXwEgivHS1k7",
        "outputId": "38f750bd-405b-4d88-92a1-9bb1cea2342a"
      },
      "outputs": [
        {
          "output_type": "stream",
          "name": "stdout",
          "text": [
            "Decay Coefficient: 23\n",
            "Temperature of 3rd day BOD: 20\n",
            "Temperature of 7th day BOD: 25\n",
            "The value of K2 is: 28.93751572825015\n",
            "The value of e is: 2.718\n",
            "BOD at 3rd day 20C: 50\n",
            "Time in days for finding B1: 3\n",
            "The value of E is: 0.49842393093394455\n",
            "The value of B0 is: 100.31621055255157 mg/lit\n",
            "Time in days for finding B2: 7\n",
            "The value of E1 is: 0.8677419049620279\n",
            "The value of B2 is: 87.04857964344298 mg/lit\n"
          ]
        }
      ],
      "source": [
        "import math\n",
        "\n",
        "# To find Decay Coefficient at 25C\n",
        "K1 = float(input(\"Decay Coefficient: \"))\n",
        "T1 = float(input(\"Temperature of 3rd day BOD: \"))\n",
        "T2 = float(input(\"Temperature of 7th day BOD: \"))\n",
        "\n",
        "# Calculate K2\n",
        "K2 = K1 * (1.047 ** (T2 - T1))\n",
        "print(\"The value of K2 is:\", K2)\n",
        "\n",
        "# To find Ultimate BOD\n",
        "e = 2.718  # value of e\n",
        "print(\"The value of e is:\", e)\n",
        "\n",
        "# Input for BOD at 3rd day\n",
        "B1 = float(input(\"BOD at 3rd day 20C: \"))\n",
        "t = float(input(\"Time in days for finding B1: \"))\n",
        "\n",
        "# Calculate E\n",
        "E = (1 - math.exp(-0.23 * t))  # Assuming decay coefficient of 0.23\n",
        "print(\"The value of E is:\", E)\n",
        "\n",
        "# Calculate BOD at 0 days\n",
        "B0 = B1 / E\n",
        "print(\"The value of B0 is:\", B0, \"mg/lit\")\n",
        "\n",
        "# Input for BOD at 7th day\n",
        "t1 = float(input(\"Time in days for finding B2: \"))\n",
        "\n",
        "# Calculate E1\n",
        "E1 = (1 - math.exp(-0.289 * t1))  # Assuming decay coefficient of 0.289\n",
        "print(\"The value of E1 is:\", E1)\n",
        "\n",
        "# Calculate B2 using B0 and E1\n",
        "B2_calculated = B0 * E1\n",
        "print(\"The value of B2 is:\", B2_calculated, \"mg/lit\")\n"
      ]
    },
    {
      "cell_type": "code",
      "source": [
        "# Determination of density of sludge removed from aeration tank\n",
        "M = float(input(\"Enter the value of initial mass: \"))\n",
        "S = float(input(\"Enter the value of solid containing sludge in percentage: \"))\n",
        "Gs = float(input(\"Enter the value of Specific gravity of sludge solid: \"))\n",
        "Rho_W = float(input(\"Enter the value of density of water: \"))\n",
        "\n",
        "# Calculate mass of water removed\n",
        "Ws = (S / M) * 100\n",
        "m = M - Ws\n",
        "\n",
        "# Display mass of water and solid content in sludge\n",
        "print(\"The value of mass of water:\", m)\n",
        "print(\"The value of Solid Content in sludge:\", Ws)\n",
        "\n",
        "# Calculate volume of water removed\n",
        "Vw = m / Rho_W\n",
        "print(\"The Value of Volume:\", Vw)\n",
        "\n",
        "# Calculate density of solid content in sludge\n",
        "Rho_S = Gs * Rho_W\n",
        "print(\"The value of Density of solid content in sludge:\", Rho_S)\n",
        "\n",
        "# Calculate volume of solid content in sludge\n",
        "Vs = (Ws /(Gs* Rho_S))2\n",
        "print(\"The value of volume of solid content in sludge:\", Vs)\n",
        "\n",
        "# Calculate total volume of solid content in sludge\n",
        "Vt = Vw + Vs\n",
        "print(\"The value of total volume of solid content in sludge:\", Vt)\n",
        "\n",
        "# Calculate density of sludge removed from aeration tank\n",
        "Rho_SL = M / Vt\n",
        "print(\"The value of Density of sludge removed from aeration:\", Rho_SL)\n"
      ],
      "metadata": {
        "colab": {
          "base_uri": "https://localhost:8080/"
        },
        "id": "kQPsQ5A6Xp3S",
        "outputId": "5a2e7e10-be39-4e4b-8000-76eef46602aa"
      },
      "execution_count": null,
      "outputs": [
        {
          "output_type": "stream",
          "name": "stdout",
          "text": [
            "Enter the value of initial mass: 100\n",
            "Enter the value of solid containing sludge in percentage: 2\n",
            "Enter the value of Specific gravity of sludge solid: 2.2\n",
            "Enter the value of density of water: 1000\n",
            "The value of mass of water: 98.0\n",
            "The value of Solid Content in sludge: 2.0\n",
            "The Value of Volume: 0.098\n",
            "The value of Density of solid content in sludge: 2200.0\n",
            "The value of volume of solid content in sludge: 0.00041322314049586776\n",
            "The value of total volume of solid content in sludge: 0.09841322314049587\n",
            "The value of Density of sludge removed from aeration: 1016.1236143768895\n"
          ]
        }
      ]
    }
  ]
}