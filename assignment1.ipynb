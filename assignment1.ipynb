{
  "nbformat": 4,
  "nbformat_minor": 0,
  "metadata": {
    "colab": {
      "provenance": []
    },
    "kernelspec": {
      "name": "python3",
      "display_name": "Python 3"
    },
    "language_info": {
      "name": "python"
    }
  },
  "cells": [
    {
      "cell_type": "code",
      "execution_count": null,
      "metadata": {
        "id": "-QpHxuQ4cpK-",
        "colab": {
          "base_uri": "https://localhost:8080/"
        },
        "outputId": "0c732bc1-da24-497e-85bd-8a3cb89596a8"
      },
      "outputs": [
        {
          "output_type": "stream",
          "name": "stdout",
          "text": [
            "Enter the value of Discharge (Q): 4.8\n",
            "Enter the value of top width (T): 2\n",
            "Enter the value of acceleration due to Gravity (g): 9.81\n",
            "Enter the value of upstream depth (y1): 1.6\n",
            "Enter the value of hump height (Z): 0.5\n",
            "The value of discharge per meter width is: 2.4\n",
            "The value of upstream area is: 3.2\n",
            "The value of Froude number is: 2.5701176212687153\n",
            "The flow is Super Critical Flow\n",
            "The value of Energy at initial Section is: 1.714678899082569\n",
            "The value of downstream Energy (E2) is: 1.214678899082569\n",
            "The value of critical depth is: 0.837370824744677\n",
            "The value of critical Energy is: 1.2560562371170154\n",
            "Choking Condition\n",
            "The value of maximum hump height (Zmax) is: 0.45862266196555357\n"
          ]
        }
      ],
      "source": [
        "#Question:1\n",
        "# To find the downstream depth of open channel\n",
        "\n",
        "# Given Data\n",
        "Q = float(input(\"Enter the value of Discharge (Q): \"))  # Discharge\n",
        "T = float(input(\"Enter the value of top width (T): \"))  # Top width\n",
        "g = float(input(\"Enter the value of acceleration due to Gravity (g): \"))  # Gravity\n",
        "y1 = float(input(\"Enter the value of upstream depth (y1): \"))  # Upstream depth\n",
        "Z = float(input(\"Enter the value of hump height (Z): \"))  # Hump height\n",
        "\n",
        "# Discharge per meter width\n",
        "q = Q / T\n",
        "print(\"The value of discharge per meter width is:\", q)\n",
        "\n",
        "# Area Calculation (Upstream)\n",
        "A1 = T * y1\n",
        "print(\"The value of upstream area is:\", A1)\n",
        "\n",
        "# Calculation of Froude Number\n",
        "Fr1 = (Q**2 * T) / (g * A1**3) ** 0.5\n",
        "print(\"The value of Froude number is:\", Fr1)\n",
        "\n",
        "# Flow classification based on Froude number\n",
        "if Fr1 > 1:\n",
        "    print(\"The flow is Super Critical Flow\")\n",
        "else:\n",
        "    print(\"The flow is Sub Critical Flow\")\n",
        "\n",
        "# Upstream Energy\n",
        "E1 = y1 + (Q**2) / (2 * g * A1**2)\n",
        "print(\"The value of Energy at initial Section is:\", E1)\n",
        "\n",
        "# Downstream Energy\n",
        "E2 = E1 - Z\n",
        "print(\"The value of downstream Energy (E2) is:\", E2)\n",
        "\n",
        "# Critical Depth Calculation\n",
        "yc = (q**2 / g)**(1/3)\n",
        "print(\"The value of critical depth is:\", yc)\n",
        "\n",
        "# Critical Energy Calculation\n",
        "Ec = 1.5 * yc\n",
        "print(\"The value of critical Energy is:\", Ec)\n",
        "\n",
        "# Choking Condition\n",
        "if Ec > E2:\n",
        "    print(\"Choking Condition\")\n",
        "else:\n",
        "    print(\"SAFE\")\n",
        "\n",
        "# Calculation of Maximum Hump Height (Zmax)\n",
        "Zmax = E1 - Ec\n",
        "print(\"The value of maximum hump height (Zmax) is:\", Zmax)\n"
      ]
    },
    {
      "cell_type": "code",
      "source": [
        "#Question:2\n",
        "# To find the downstream depth of open channel\n",
        "\n",
        "# Given Data\n",
        "Q = float(input(\"Enter the value of Discharge (Q): \"))  # Discharge\n",
        "B1 = float(input(\"Enter the value of width at upstream (B1): \"))  # Upstream width\n",
        "B2 = float(input(\"Enter the value of width at downstream (B2): \"))  # Downstream width\n",
        "g = float(input(\"Enter the value of acceleration due to Gravity (g): \"))  # Gravity\n",
        "y1 = float(input(\"Enter the value of upstream depth (y1): \"))  # Upstream depth\n",
        "\n",
        "# Discharge per meter width\n",
        "q1 = Q / B1\n",
        "q2 = Q / B2\n",
        "\n",
        "print(\"The value of discharge per meter width at upstream (q1) is:\", q1)\n",
        "print(\"The value of discharge per meter width at downstream (q2) is:\", q2)\n",
        "\n",
        "# Area Calculation (Upstream)\n",
        "A1 = B1 * y1\n",
        "print(\"The value of upstream area (A1) is:\", A1)\n",
        "\n",
        "# Calculation of Froude Number\n",
        "Fr1 = ((Q**2 * B1) / (g * A1**3)) ** 0.5\n",
        "print(\"The value of Froude number (Fr1) is:\", Fr1)\n",
        "\n",
        "# Flow classification based on Froude number\n",
        "if Fr1 > 1:\n",
        "    print(\"The flow is Super Critical Flow\")\n",
        "else:\n",
        "    print(\"The flow is Sub Critical Flow\")\n",
        "\n",
        "# Upstream Energy\n",
        "E1 = y1 + (Q**2) / (2 * g * A1**2)\n",
        "print(\"The value of Energy at initial Section (E1) is:\", E1)\n",
        "\n",
        "# Minimum downstream width to avoid chocking\n",
        "B2min = ((27 * Q**2) / (8 * g * E1**3)) ** 0.5\n",
        "print(\"The value of minimum width to avoid chocking (B2min) is:\", B2min)\n",
        "\n",
        "if B2min > B2:\n",
        "    print(\"Choking Condition\")\n",
        "else:\n",
        "    print(\"SAFE\")\n",
        "\n",
        "# Critical Depth Calculation\n",
        "yc = ((Q**2) / (B2**2 * g)) ** (1/3)\n",
        "print(\"The value of critical depth (yc) is:\", yc)\n",
        "\n",
        "# Critical Energy Calculation\n",
        "Ec = 1.5 * yc\n",
        "print(\"The value of critical Energy (Ec) is:\", Ec)\n",
        "232"
      ],
      "metadata": {
        "colab": {
          "base_uri": "https://localhost:8080/"
        },
        "id": "6qMjkTcC0WmZ",
        "outputId": "74949617-2f3d-4f4d-b3c5-443a543d8de8"
      },
      "execution_count": null,
      "outputs": [
        {
          "output_type": "stream",
          "name": "stdout",
          "text": [
            "Enter the value of Discharge (Q): 15\n",
            "Enter the value of width at upstream (B1): 3.5\n",
            "Enter the value of width at downstream (B2): 2.5\n",
            "Enter the value of acceleration due to Gravity (g): 9.81\n",
            "Enter the value of upstream depth (y1): 2\n",
            "The value of discharge per meter width at upstream (q1) is: 4.285714285714286\n",
            "The value of discharge per meter width at downstream (q2) is: 6.0\n",
            "The value of upstream area (A1) is: 7.0\n",
            "The value of Froude number (Fr1) is: 0.4837753296275688\n",
            "The flow is Sub Critical Flow\n",
            "The value of Energy at initial Section (E1) is: 2.234038569556263\n",
            "The value of minimum width to avoid chocking (B2min) is: 2.634860603070728\n",
            "Choking Condition\n",
            "The value of critical depth (yc) is: 1.5424502472009343\n",
            "The value of critical Energy (Ec) is: 2.3136753708014015\n"
          ]
        },
        {
          "output_type": "execute_result",
          "data": {
            "text/plain": [
              "232"
            ]
          },
          "metadata": {},
          "execution_count": 6
        }
      ]
    },
    {
      "cell_type": "code",
      "source": [
        "#Question:30\n",
        "# Design of Efficient Channel Section\n",
        "\n",
        "# Given Data\n",
        "Q = float(input(\"Enter the value of Discharge (Q): \"))  # Discharge\n",
        "n = float(input(\"Enter the value of Rugosity coefficient (n): \"))  # Manning's n\n",
        "So = float(input(\"Enter the value of bed slope (So): \"))  # Bed slope\n",
        "g = float(input(\"Enter the value of acceleration due to Gravity (g): \"))  # Gravity\n",
        "\n",
        "# Manning's Formula\n",
        "# Q = (AR^2/3 * S^1/2) / n\n",
        "yn = ((Q * n * 50 * 1.591) / 1.732) ** (3 / 8)\n",
        "print(\"The Value of yn (normal depth) is:\", yn)\n",
        "\n",
        "# To encounter the effect of freeboard (increased depth)\n",
        "yn1 = 1.1 * yn\n",
        "print(\"The Value of yn1 (depth with freeboard) is:\", yn1)\n",
        "\n",
        "# Cross-Sectional Area\n",
        "A = 1.732 * yn * yn1\n",
        "print(\"The cross-sectional area is:\", A)\n",
        "\n",
        "# Top Width\n",
        "T = 4 * yn / 1.732\n",
        "print(\"The value of top width (T) is:\", T)\n",
        "\n",
        "# Bottom Width\n",
        "B = 2 * yn / 1.732\n",
        "print(\"The value of bottom width (B) is:\", B)\n",
        "\n",
        "# Calculation of Froude Number\n",
        "Fr = ((Q**2 * T) / (g * A**3)) ** 0.5\n",
        "print(\"The value of Froude number (Fr) is:\", Fr)\n",
        "\n",
        "# Flow classification based on Froude number\n",
        "if Fr > 1:\n",
        "    print(\"The flow is Super Critical Flow\")\n",
        "else:\n",
        "    print(\"The flow is Sub Critical Flow\")\n"
      ],
      "metadata": {
        "colab": {
          "base_uri": "https://localhost:8080/"
        },
        "id": "EOz8cQb21XhI",
        "outputId": "5360884a-e257-4a69-a3ba-ba743311ce10"
      },
      "execution_count": null,
      "outputs": [
        {
          "output_type": "stream",
          "name": "stdout",
          "text": [
            "Enter the value of Discharge (Q): 100\n",
            "Enter the value of Rugosity coefficient (n): 0.015\n",
            "Enter the value of bed slope (So): .0004\n",
            "Enter the value of acceleration due to Gravity (g): 9.81\n",
            "The Value of yn (normal depth) is: 4.89011230647273\n",
            "The Value of yn1 (depth with freeboard) is: 5.3791235371200035\n",
            "The cross-sectional area is: 45.559425534364046\n",
            "The value of top width (T) is: 11.293561908713002\n",
            "The value of bottom width (B) is: 5.646780954356501\n",
            "The value of Froude number (Fr) is: 0.3489101517794554\n",
            "The flow is Sub Critical Flow\n"
          ]
        }
      ]
    }
  ]
}