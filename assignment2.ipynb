{
  "nbformat": 4,
  "nbformat_minor": 0,
  "metadata": {
    "colab": {
      "provenance": []
    },
    "kernelspec": {
      "name": "python3",
      "display_name": "Python 3"
    },
    "language_info": {
      "name": "python"
    }
  },
  "cells": [
    {
      "cell_type": "code",
      "execution_count": null,
      "metadata": {
        "colab": {
          "base_uri": "https://localhost:8080/"
        },
        "id": "M4kT2WS82sFo",
        "outputId": "3e16b72a-f236-444a-bb81-db279dc0fa23"
      },
      "outputs": [
        {
          "output_type": "stream",
          "name": "stdout",
          "text": [
            "Enter the value of initial Infiltration Rate (fo): 6\n",
            "Enter the value of final infiltration rate (fc): 1.2\n",
            "Enter the value of time (t): 8\n",
            "Enter the value of decay coefficient (kh): 0.888\n",
            "The value of Total Infiltration (Fp) is: 15.005405405405405\n"
          ]
        }
      ],
      "source": [
        "#Question:1\n",
        "# Calculation of total Infiltration by Horton's Equation\n",
        "\n",
        "# Given Data\n",
        "fo = float(input(\"Enter the value of initial Infiltration Rate (fo): \"))  # Initial infiltration rate\n",
        "fc = float(input(\"Enter the value of final infiltration rate (fc): \"))  # Final infiltration rate\n",
        "t = float(input(\"Enter the value of time (t): \"))  # Time\n",
        "kh = float(input(\"Enter the value of decay coefficient (kh): \"))  # Decay coefficient\n",
        "\n",
        "# Horton's Equation for total infiltration\n",
        "Fp = fc * t + (fo - fc) / kh  # Corrected the formula and fixed the string quote error\n",
        "print(\"The value of Total Infiltration (Fp) is:\", Fp)\n"
      ]
    },
    {
      "cell_type": "code",
      "source": [
        "#Question:2\n",
        "# Calculation of Mean Precipitation by Thiessen's Polygon Method\n",
        "\n",
        "# The value of precipitation at each station\n",
        "p1 = int(input(\"Enter the value of rainfall at Station 1 (p1): \"))  # Rainfall at Station 1\n",
        "p2 = int(input(\"Enter the value of rainfall at Station 2 (p2): \"))  # Rainfall at Station 2\n",
        "p3 = int(input(\"Enter the value of rainfall at Station 3 (p3): \"))  # Rainfall at Station 3\n",
        "p4 = int(input(\"Enter the value of rainfall at Station 4 (p4): \"))  # Rainfall at Station 4\n",
        "p5 = int(input(\"Enter the value of rainfall at Station 5 (p5): \"))  # Rainfall at Station 5\n",
        "\n",
        "# Area for each station\n",
        "A1 = int(input(\"Enter the value of Catchment Area for Raingauge Station 1 (A1): \"))  # Area for Station 1\n",
        "A2 = int(input(\"Enter the value of Catchment Area for Raingauge Station 2 (A2): \"))  # Area for Station 2\n",
        "A3 = int(input(\"Enter the value of Catchment Area for Raingauge Station 3 (A3): \"))  # Area for Station 3\n",
        "A4 = int(input(\"Enter the value of Catchment Area for Raingauge Station 4 (A4): \"))  # Area for Station 4\n",
        "A5 = int(input(\"Enter the value of Catchment Area for Raingauge Station 5 (A5): \"))  # Area for Station 5\n",
        "\n",
        "# Total catchment area\n",
        "A = A1 + A2 + A3 + A4 + A5\n",
        "print(\"The value of Total Catchment Area is:\", A)\n",
        "\n",
        "# Runoff Volume\n",
        "# The volume is multiplied by 2500 to cater to scale effects\n",
        "V = (p1 * A1 + p2 * A2 + p3 * A3 + p4 * A4 + p5 * A5) * 2500\n",
        "print(\"The runoff volume from the given catchment is:\", V)\n",
        "\n",
        "# Mean Precipitation\n",
        "P = (p1 * A1 + p2 * A2 + p3 * A3 + p4 * A4 + p5 * A5) / A\n",
        "print(\"The value of Mean Precipitation is:\", P)\n"
      ],
      "metadata": {
        "colab": {
          "base_uri": "https://localhost:8080/"
        },
        "id": "OTzDNTeW5BKd",
        "outputId": "911367ae-4409-4a73-ece4-15e41f74693f"
      },
      "execution_count": null,
      "outputs": [
        {
          "output_type": "stream",
          "name": "stdout",
          "text": [
            "Enter the value of rainfall at Station 1 (p1): 125\n",
            "Enter the value of rainfall at Station 2 (p2): 175\n",
            "Enter the value of rainfall at Station 3 (p3): 225\n",
            "Enter the value of rainfall at Station 4 (p4): 275\n",
            "Enter the value of rainfall at Station 5 (p5): 325\n",
            "Enter the value of Catchment Area for Raingauge Station 1 (A1): 25\n",
            "Enter the value of Catchment Area for Raingauge Station 2 (A2): 30\n",
            "Enter the value of Catchment Area for Raingauge Station 3 (A3): 30\n",
            "Enter the value of Catchment Area for Raingauge Station 4 (A4): 10\n",
            "Enter the value of Catchment Area for Raingauge Station 5 (A5): 5\n",
            "The value of Total Catchment Area is: 100\n",
            "The runoff volume from the given catchment is: 48750000\n",
            "The value of Mean Precipitation is: 195.0\n"
          ]
        }
      ]
    },
    {
      "cell_type": "code",
      "source": [
        "#Question:3\n",
        "# Calculation of Mean Precipitation by Isohyetal Method\n",
        "\n",
        "# The value of precipitation at each station\n",
        "p1 = int(input(\"Enter the value of rainfall at Station 1 (p1): \"))  # Rainfall at Station 1\n",
        "p2 = int(input(\"Enter the value of rainfall at Station 2 (p2): \"))  # Rainfall at Station 2\n",
        "p3 = int(input(\"Enter the value of rainfall at Station 3 (p3): \"))  # Rainfall at Station 3\n",
        "p4 = int(input(\"Enter the value of rainfall at Station 4 (p4): \"))  # Rainfall at Station 4\n",
        "p5 = int(input(\"Enter the value of rainfall at Station 5 (p5): \"))  # Rainfall at Station 5\n",
        "p6 = int(input(\"Enter the value of rainfall at Station 6 (p6): \"))  # Rainfall at Station 6\n",
        "p7 = int(input(\"Enter the value of rainfall at Station 7 (p7): \"))  # Rainfall at Station 7\n",
        "p8 = int(input(\"Enter the value of rainfall at Station 8 (p8): \"))  # Rainfall at Station 8\n",
        "\n",
        "# Area for each station\n",
        "A1 = int(input(\"Enter the value of Catchment Area for Raingauge Station 1 (A1): \"))  # Area for Station 1\n",
        "A2 = int(input(\"Enter the value of Catchment Area for Raingauge Station 2 (A2): \"))  # Area for Station 2\n",
        "A3 = int(input(\"Enter the value of Catchment Area for Raingauge Station 3 (A3): \"))  # Area for Station 3\n",
        "A4 = int(input(\"Enter the value of Catchment Area for Raingauge Station 4 (A4): \"))  # Area for Station 4\n",
        "A5 = int(input(\"Enter the value of Catchment Area for Raingauge Station 5 (A5): \"))  # Area for Station 5\n",
        "A6 = int(input(\"Enter the value of Catchment Area for Raingauge Station 6 (A6): \"))  # Area for Station 6\n",
        "A7 = int(input(\"Enter the value of Catchment Area for Raingauge Station 7 (A7): \"))  # Area for Station 7\n",
        "\n",
        "# Total catchment area\n",
        "A = A1 + A2 + A3 + A4 + A5 + A6 + A7\n",
        "print(\"The value of Total Catchment Area is:\", A)\n",
        "\n",
        "# Mean Precipitation using Isohyetal Method\n",
        "P = (\n",
        "    ((p1 + p2) * A1 / 2) +\n",
        "    ((p2 + p3) * A2 / 2) +\n",
        "    ((p3 + p4) * A3 / 2) +\n",
        "    ((p4 + p5) * A4 / 2) +\n",
        "    ((p5 + p6) * A5 / 2) +\n",
        "    ((p6 + p7) * A6 / 2) +\n",
        "    ((p7 + p8) * A7 / 2)\n",
        ") / A\n",
        "\n",
        "print(\"The value of Mean Precipitation is:\", P)\n"
      ],
      "metadata": {
        "colab": {
          "base_uri": "https://localhost:8080/"
        },
        "id": "97ZMHBFx5-_f",
        "outputId": "4bb0289f-30b1-46ff-ee99-3ea5af1b1125"
      },
      "execution_count": null,
      "outputs": [
        {
          "output_type": "stream",
          "name": "stdout",
          "text": [
            "Enter the value of rainfall at Station 1 (p1): 14\n",
            "Enter the value of rainfall at Station 2 (p2): 12\n",
            "Enter the value of rainfall at Station 3 (p3): 10\n",
            "Enter the value of rainfall at Station 4 (p4): 8\n",
            "Enter the value of rainfall at Station 5 (p5): 6\n",
            "Enter the value of rainfall at Station 6 (p6): 4\n",
            "Enter the value of rainfall at Station 7 (p7): 2\n",
            "Enter the value of rainfall at Station 8 (p8): 0\n",
            "Enter the value of Catchment Area for Raingauge Station 1 (A1): 90\n",
            "Enter the value of Catchment Area for Raingauge Station 2 (A2): 140\n",
            "Enter the value of Catchment Area for Raingauge Station 3 (A3): 125\n",
            "Enter the value of Catchment Area for Raingauge Station 4 (A4): 140\n",
            "Enter the value of Catchment Area for Raingauge Station 5 (A5): 85\n",
            "Enter the value of Catchment Area for Raingauge Station 6 (A6): 40\n",
            "Enter the value of Catchment Area for Raingauge Station 7 (A7): 20\n",
            "The value of Total Catchment Area is: 640\n",
            "The value of Mean Precipitation is: 8.40625\n"
          ]
        }
      ]
    },
    {
      "cell_type": "code",
      "source": [
        "import numpy as np\n",
        "\n",
        "N = int(input(\"Number of data values of rainfall: \"))\n",
        "M = int(input(\"Number of data values of Area: \"))\n",
        "\n",
        "R = []  # List for rainfall data\n",
        "A = []  # List for area data\n",
        "\n",
        "# Input data for rainfall\n",
        "for i in range(N):\n",
        "    rainfall = float(input(f\"Enter rainfall value {i+1}: \"))\n",
        "    R.append(rainfall)\n",
        "\n",
        "# Input data for area\n",
        "for j in range(M):\n",
        "    area = float(input(f\"Enter area value {j+1}: \"))\n",
        "    A.append(area)\n",
        "\n",
        "# Convert lists to NumPy arrays\n",
        "R = np.array(R)\n",
        "A = np.array(A)\n",
        "\n",
        "# Calculate the dot product\n",
        "product = np.dot(R, A)\n",
        "\n",
        "# Calculate the mean precipitation\n",
        "mean_precipitation = product / np.sum(A)\n",
        "\n",
        "print(\"Mean Precipitation:\", mean_precipitation, \"cm\")\n",
        "3"
      ],
      "metadata": {
        "colab": {
          "base_uri": "https://localhost:8080/"
        },
        "id": "gVtT5pKW6ZnZ",
        "outputId": "637b4db1-3237-4b34-ec64-cab22bae1be3"
      },
      "execution_count": null,
      "outputs": [
        {
          "output_type": "stream",
          "name": "stdout",
          "text": [
            "Number of data values of rainfall: 5\n",
            "Number of data values of Area: 5\n",
            "Enter rainfall value 1: 125\n",
            "Enter rainfall value 2: 175\n",
            "Enter rainfall value 3: 225\n",
            "Enter rainfall value 4: 275\n",
            "Enter rainfall value 5: 325\n",
            "Enter area value 1: 25\n",
            "Enter area value 2: 30\n",
            "Enter area value 3: 30\n",
            "Enter area value 4: 10\n",
            "Enter area value 5: 5\n",
            "Mean Precipitation: 195.0 cm\n"
          ]
        }
      ]
    },
    {
      "cell_type": "code",
      "source": [
        "import numpy as np\n",
        "\n",
        "N = int(input(\"Number of pulses: \"))\n",
        "dt = float(input(\"Enter time interval of each pulse in hours: \"))\n",
        "Rd = float(input(\"Enter the value of runoff depth (Rd) in cm: \"))\n",
        "\n",
        "Ri = []  # Rainfall intensity\n",
        "\n",
        "for i in range(1, N + 1):\n",
        "    value = float(input(f\"Enter rainfall intensity in cm/hr for pulse {i}: \"))\n",
        "    Ri.append(value)\n",
        "\n",
        "# W-Index calculation\n",
        "Total_Rain = sum(Ri) * dt\n",
        "print(\"Total depth of rainfall = {:.2f} cm\".format(Total_Rain))\n",
        "\n",
        "W_index = (Total_Rain - Rd) / (N * dt)\n",
        "print(\"W-index = {:.2f} cm/hr\".format(W_index))\n",
        "\n",
        "# Phi-Index Calculation\n",
        "def excess_rain(M, Ri, tr):\n",
        "    print(\"Trial No:\", tr)\n",
        "    print(f\"Assume that out of {N} pulses, {M} pulses have rainfall excess\")\n",
        "    te = dt * M  # duration of excess rainfall\n",
        "    print(\"Duration of excess rainfall = {:.2f} hrs\".format(te))\n",
        "\n",
        "    R_depth = 0\n",
        "    for j in range(M):\n",
        "        R_depth += Ri[j] * dt\n",
        "\n",
        "    print(\"Total depth of excess rainfall for trial\", tr, \"=\", R_depth, \"cm\")\n",
        "\n",
        "    phi = (R_depth - Rd) / te\n",
        "    print(\"Phi Index for trial\", tr, \"=\", phi, \"cm/hr\")\n",
        "\n",
        "    Ri.sort()\n",
        "    print(\"Ri (sorted) = \", Ri)\n",
        "    return phi\n",
        "\n",
        "M = N\n",
        "tr = 1  # trial number\n",
        "\n",
        "while 0 < M <= N:\n",
        "    phi = excess_rain(M, Ri, tr)  # driver function\n",
        "    print(\"While loop Ri =\", Ri)\n",
        "    print(\"While loop Phi =\", phi)\n",
        "\n",
        "    M -= 1\n",
        "    tr+=15\n",
        "    if Ri and Ri[0] > phi:\n",
        "        print(\"\\nFinal value of Phi-index = {:.2f} cm/hr\".format(phi))\n",
        "        break\n",
        "    else:\n",
        "        if Ri:\n",
        "            print(\"As rainfall intensity ({:.2f} cm/hr) < 0, so no contribution towards runoff\".format(Ri[0]))\n",
        "            del Ri[0]\n",
        "            print(\"Assumption of {} pulses have rainfall excess fails, so remove least rainfall intensity < 0.\".format(M))\n",
        "            print(\"Excess rainfall intensities (sorted):\", Ri)\n",
        "            print(\"In next trial assume no. of pulses that have rainfall excess:\", len(Ri))\n",
        "\n",
        "# Final output of remaining excess rainfall intensities\n",
        "if Ri:\n",
        "    print(\"Remaining excess rainfall intensities:\", Ri)\n",
        "0"
      ],
      "metadata": {
        "colab": {
          "base_uri": "https://localhost:8080/"
        },
        "id": "q5HAGbL57XCZ",
        "outputId": "999f7d97-fcf9-462c-e880-a1fba86a212a"
      },
      "execution_count": null,
      "outputs": [
        {
          "output_type": "stream",
          "name": "stdout",
          "text": [
            "Number of pulses: 8\n",
            "Enter time interval of each pulse in hours: 2\n",
            "Enter the value of runoff depth (Rd) in cm: 5.8\n",
            "Enter rainfall intensity in cm/hr for pulse 1: 0.2\n",
            "Enter rainfall intensity in cm/hr for pulse 2: 0.45\n",
            "Enter rainfall intensity in cm/hr for pulse 3: .75\n",
            "Enter rainfall intensity in cm/hr for pulse 4: 1.15\n",
            "Enter rainfall intensity in cm/hr for pulse 5: 0.9\n",
            "Enter rainfall intensity in cm/hr for pulse 6: 0.8\n",
            "Enter rainfall intensity in cm/hr for pulse 7: 0.5\n",
            "Enter rainfall intensity in cm/hr for pulse 8: 0.25\n",
            "Total depth of rainfall = 10.00 cm\n",
            "W-index = 0.26 cm/hr\n",
            "Trial No: 1\n",
            "Assume that out of 8 pulses, 8 pulses have rainfall excess\n",
            "Duration of excess rainfall = 16.00 hrs\n",
            "Total depth of excess rainfall for trial 1 = 10.0 cm\n",
            "Phi Index for trial 1 = 0.2625 cm/hr\n",
            "Ri (sorted) =  [0.2, 0.25, 0.45, 0.5, 0.75, 0.8, 0.9, 1.15]\n",
            "While loop Ri = [0.2, 0.25, 0.45, 0.5, 0.75, 0.8, 0.9, 1.15]\n",
            "While loop Phi = 0.2625\n",
            "As rainfall intensity (0.20 cm/hr) < 0, so no contribution towards runoff\n",
            "Assumption of 7 pulses have rainfall excess fails, so remove least rainfall intensity < 0.\n",
            "Excess rainfall intensities (sorted): [0.25, 0.45, 0.5, 0.75, 0.8, 0.9, 1.15]\n",
            "In next trial assume no. of pulses that have rainfall excess: 7\n",
            "Trial No: 2\n",
            "Assume that out of 8 pulses, 7 pulses have rainfall excess\n",
            "Duration of excess rainfall = 14.00 hrs\n",
            "Total depth of excess rainfall for trial 2 = 9.6 cm\n",
            "Phi Index for trial 2 = 0.2714285714285714 cm/hr\n",
            "Ri (sorted) =  [0.25, 0.45, 0.5, 0.75, 0.8, 0.9, 1.15]\n",
            "While loop Ri = [0.25, 0.45, 0.5, 0.75, 0.8, 0.9, 1.15]\n",
            "While loop Phi = 0.2714285714285714\n",
            "As rainfall intensity (0.25 cm/hr) < 0, so no contribution towards runoff\n",
            "Assumption of 6 pulses have rainfall excess fails, so remove least rainfall intensity < 0.\n",
            "Excess rainfall intensities (sorted): [0.45, 0.5, 0.75, 0.8, 0.9, 1.15]\n",
            "In next trial assume no. of pulses that have rainfall excess: 6\n",
            "Trial No: 3\n",
            "Assume that out of 8 pulses, 6 pulses have rainfall excess\n",
            "Duration of excess rainfall = 12.00 hrs\n",
            "Total depth of excess rainfall for trial 3 = 9.1 cm\n",
            "Phi Index for trial 3 = 0.27499999999999997 cm/hr\n",
            "Ri (sorted) =  [0.45, 0.5, 0.75, 0.8, 0.9, 1.15]\n",
            "While loop Ri = [0.45, 0.5, 0.75, 0.8, 0.9, 1.15]\n",
            "While loop Phi = 0.27499999999999997\n",
            "\n",
            "Final value of Phi-index = 0.27 cm/hr\n",
            "Remaining excess rainfall intensities: [0.45, 0.5, 0.75, 0.8, 0.9, 1.15]\n"
          ]
        },
        {
          "output_type": "execute_result",
          "data": {
            "text/plain": [
              "0"
            ]
          },
          "metadata": {},
          "execution_count": 9
        }
      ]
    }
  ]
}