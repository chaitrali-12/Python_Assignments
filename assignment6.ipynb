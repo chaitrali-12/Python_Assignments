{
  "nbformat": 4,
  "nbformat_minor": 0,
  "metadata": {
    "colab": {
      "provenance": []
    },
    "kernelspec": {
      "name": "python3",
      "display_name": "Python 3"
    },
    "language_info": {
      "name": "python"
    }
  },
  "cells": [
    {
      "cell_type": "code",
      "execution_count": null,
      "metadata": {
        "colab": {
          "base_uri": "https://localhost:8080/"
        },
        "id": "GxKWbWjJK1Mr",
        "outputId": "a4047299-a94c-4518-ff71-cb715ee373af"
      },
      "outputs": [
        {
          "output_type": "stream",
          "name": "stdout",
          "text": [
            "Enter the value of Load in kN: 2500\n",
            "Number of data values of radial distance: 5\n",
            "Enter the Depth in meters: 6\n",
            "Enter radial distance 1 in meters: 1\n",
            "Enter radial distance 2 in meters: 2\n",
            "Enter radial distance 3 in meters: 3\n",
            "Enter radial distance 4 in meters: 4\n",
            "Enter radial distance 5 in meters: 5\n",
            "Stress at radial distance 1.0 m: 30.962130445358056 kN/m^2\n",
            "Stress at radial distance 2.0 m: 25.479163627894877 kN/m^2\n",
            "Stress at radial distance 3.0 m: 18.98033449112347 kN/m^2\n",
            "Stress at radial distance 4.0 m: 13.22290223969301 kN/m^2\n",
            "Stress at radial distance 5.0 m: 8.871775810212231 kN/m^2\n"
          ]
        }
      ],
      "source": [
        "# Constants\n",
        "pi = 3.14159265359\n",
        "\n",
        "# Input for Load and Depth\n",
        "Q = float(input(\"Enter the value of Load in kN: \"))\n",
        "N = int(input(\"Number of data values of radial distance: \"))\n",
        "Z = float(input(\"Enter the Depth in meters: \"))\n",
        "\n",
        "# Array to store radial distances\n",
        "r = []\n",
        "# Input radial distances\n",
        "for i in range(1, N + 1):\n",
        "    Value_r = float(input(f\"Enter radial distance {i} in meters: \"))\n",
        "    r.append(Value_r)\n",
        "\n",
        "# Calculate and display stress for each radial distance\n",
        "for Value_r in r:\n",
        "    Stress = ((3 * Q) / (2 * pi * Z * Z)) * ((1 / (1 + ((Value_r / Z) ** 2))) ** 2.5)\n",
        "    print(f\"Stress at radial distance {Value_r} m: {Stress} kN/m^2\")\n"
      ]
    },
    {
      "cell_type": "code",
      "source": [
        "# Input the values of load, vertical distance, and horizontal distance\n",
        "Q = float(input(\"Enter the value of the given load (in kN): \"))\n",
        "z = float(input(\"Enter the vertical distance (in meters): \"))\n",
        "r = float(input(\"Enter the horizontal distance (in meters): \"))\n",
        "\n",
        "# Define the value of pi\n",
        "pi = 3.14159265359\n",
        "\n",
        "# Calculate the stress using Boussinesq's Theory\n",
        "stress = (3 * Q * (1 / (1 + (r / z) ** 2)) ** 2.5) / (2 * pi * (z ** 2))\n",
        "\n",
        "# Output the value of stress\n",
        "print(\"The value of stress is\", stress, \"kN/m^2\")\n"
      ],
      "metadata": {
        "colab": {
          "base_uri": "https://localhost:8080/"
        },
        "id": "EA8JwwkBQZTp",
        "outputId": "e88e3343-7b1b-4082-b6a2-b89cbcba4eec"
      },
      "execution_count": null,
      "outputs": [
        {
          "output_type": "stream",
          "name": "stdout",
          "text": [
            "Enter the value of the given load (in kN): 2500\n",
            "Enter the vertical distance (in meters): 6\n",
            "Enter the horizontal distance (in meters): 5\n",
            "The value of stress is 8.871775810212233 kN/m^2\n"
          ]
        }
      ]
    }
  ]
}